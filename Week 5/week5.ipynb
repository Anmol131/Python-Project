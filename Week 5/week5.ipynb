{
 "cells": [
  {
   "cell_type": "code",
   "execution_count": 3,
   "metadata": {},
   "outputs": [
    {
     "name": "stdout",
     "output_type": "stream",
     "text": [
      "Operating System Platform: win32\n"
     ]
    }
   ],
   "source": [
    "#1. Using command-line arguments involves the sys module. Review the docs for this\n",
    "#module and using the information in there write a short program that when run\n",
    "#from the command-line reports what operating system platform is being used.\n",
    "\n",
    "from sys import platform\n",
    "\n",
    "\n",
    "if __name__ == '__main__':\n",
    "        print(f\"Operating System Platform: {platform}\")"
   ]
  },
  {
   "cell_type": "code",
   "execution_count": 4,
   "metadata": {},
   "outputs": [
    {
     "name": "stdout",
     "output_type": "stream",
     "text": [
      "Number of arguments provided: 1\n"
     ]
    }
   ],
   "source": [
    "#2. Write a program that, when run from the command line, reports how many\n",
    "#arguments were provided. (Remember that the program name itself is not an\n",
    "#argument).\n",
    "\n",
    "from sys import argv\n",
    "\n",
    "\n",
    "if __name__ == '__main__':\n",
    "    args = len(argv) - 1\n",
    "print(f\"Number of arguments provided: {args}\")"
   ]
  },
  {
   "cell_type": "code",
   "execution_count": 5,
   "metadata": {},
   "outputs": [
    {
     "name": "stdout",
     "output_type": "stream",
     "text": [
      "Just the one CLA, so it must be shortest: --f=\"c:\\Users\\Acer Nitro\\AppData\\Roaming\\jupyter\\runtime\\kernel-v2-117409DKbg1dBDWHY.json\".\n"
     ]
    }
   ],
   "source": [
    "#3. Write a program that takes a bunch of command-line arguments, and then prints\n",
    "#out the shortest. If there is more than one of the shortest length, any will do.\n",
    "\n",
    "from sys import argv\n",
    "\n",
    "\n",
    "if __name__ == '__main__':\n",
    "    if len(argv) == 1:\n",
    "        print('No CLAs provided. So none is the shortest.')\n",
    "    elif len(argv) == 2:\n",
    "        print(f'Just the one CLA, so it must be shortest: {argv[1]}.')\n",
    "    else:\n",
    "        sorted_args = argv[:]\n",
    "        sorted_args.sort(key=len)\n",
    "        print(f'Shorted argument (of the {len(argv) - 1}): {sorted_args[0]}.')\n"
   ]
  },
  {
   "cell_type": "code",
   "execution_count": 6,
   "metadata": {},
   "outputs": [
    {
     "name": "stdout",
     "output_type": "stream",
     "text": [
      "The website at https://www.youtube.com/ is working.\n"
     ]
    }
   ],
   "source": [
    "#4. Write a program that takes a URL as a command-line argument and reports\n",
    "#whether or not there is a working website at that address.\n",
    "\n",
    "import sys\n",
    "import requests\n",
    "\n",
    "def check_website(url):\n",
    "    try:\n",
    "        response = requests.head(url)\n",
    "        if response.status_code // 100 == 2:\n",
    "            print(f\"The website at {url} is working.\")\n",
    "        else:\n",
    "            print(f\"The website at {url} returned a non-successful status code: {response.status_code}\")\n",
    "    except requests.ConnectionError:\n",
    "        print(f\"Unable to connect to {url}. Please check the URL and try again.\")\n",
    "\n",
    "sys.argv = ['check_website.py', 'https://www.youtube.com/']\n",
    "\n",
    "if __name__ == \"__main__\":\n",
    "    if len(sys.argv) != 2:\n",
    "        print(\"Usage: python check_website.py <URL>\")\n",
    "    else:\n",
    "        url = sys.argv[1]\n",
    "        check_website(url)"
   ]
  },
  {
   "cell_type": "code",
   "execution_count": 7,
   "metadata": {},
   "outputs": [
    {
     "name": "stdout",
     "output_type": "stream",
     "text": [
      "\"cheesey\" -> \"cheese\"\n",
      "\"123456\" -> \"12345\"\n",
      "\"Ni\" -> \"N\"\n",
      "\"spam\" -> \"spa\"\n",
      "\"\" -> \"\"\n",
      "\"A\" -> \"A\"\n",
      "\"cheesey\" -> \"cheese\"\n",
      "\"123456\" -> \"12345\"\n",
      "\"Ni\" -> \"N\"\n",
      "\"spam\" -> \"spa\"\n",
      "\"\" -> \"\"\n",
      "\"A\" -> \"A\"\n",
      "Error processing data. How sad.\n"
     ]
    }
   ],
   "source": [
    "#5 Last week you wrote a program that processed a collection of temperature readings\n",
    "#entered by the user and displayed the maximum, minimum, and mean. Create a\n",
    "#version of that program that takes the values from the command-line instead. Be\n",
    "#sure to handle the case where no arguments are provided!\n",
    "\n",
    "def chomp(s):\n",
    "    return s[:-1] if len(s) > 1 else s\n",
    "\n",
    "\n",
    "if __name__ == '__main__':\n",
    "    for s in ['cheesey', '123456', 'Ni', 'spam', '', 'A']:\n",
    "        print(f'\"{s}\" -> \"{chomp(s)}\"')\n",
    "\n",
    "from statistics import mean\n",
    "from sys import argv\n",
    "\n",
    "from chomp import chomp\n",
    "\n",
    "\n",
    "def read_temperatures(temp_list):\n",
    "    temps = []\n",
    "\n",
    "    for arg in temp_list:\n",
    "        if arg.endswith(('C', 'c')):\n",
    "            temps.append(float(chomp(arg)))\n",
    "        else:\n",
    "            raise ValueError('Invalid data on command-line')\n",
    "\n",
    "    return temps\n",
    "\n",
    "\n",
    "def print_results(temps_list):\n",
    "    print()\n",
    "    print(f'Max Temp:  {max(temps_list):6.2f}C.')\n",
    "    print(f'Min Temp:  {min(temps_list):6.2f}C.')\n",
    "    print(f'Mean Temp: {mean(temps_list):6.2f}C.')\n",
    "    print()\n",
    "\n",
    "\n",
    "if __name__ == '__main__':\n",
    "\n",
    "    try:\n",
    "        print_results(read_temperatures(argv[1:]))\n",
    "    except ValueError:\n",
    "        print('Error processing data. How sad.')"
   ]
  }
 ],
 "metadata": {
  "kernelspec": {
   "display_name": "Python 3",
   "language": "python",
   "name": "python3"
  },
  "language_info": {
   "codemirror_mode": {
    "name": "ipython",
    "version": 3
   },
   "file_extension": ".py",
   "mimetype": "text/x-python",
   "name": "python",
   "nbconvert_exporter": "python",
   "pygments_lexer": "ipython3",
   "version": "3.11.4"
  }
 },
 "nbformat": 4,
 "nbformat_minor": 2
}
