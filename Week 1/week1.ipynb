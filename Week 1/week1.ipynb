{
 "cells": [
  {
   "cell_type": "code",
   "execution_count": null,
   "metadata": {},
   "outputs": [],
   "source": [
    "#1\n",
    "print('Hello World')"
   ]
  },
  {
   "cell_type": "code",
   "execution_count": null,
   "metadata": {},
   "outputs": [],
   "source": [
    "# Q2 \n",
    "print('Hello, Bivek Kumar sah!')"
   ]
  },
  {
   "cell_type": "code",
   "execution_count": null,
   "metadata": {},
   "outputs": [],
   "source": [
    "# Q3\n",
    "print(f'38.4C is equivalent to {38.4 * 1.8 + 32}F.')"
   ]
  },
  {
   "cell_type": "code",
   "execution_count": null,
   "metadata": {},
   "outputs": [],
   "source": [
    "# Q4 \n",
    "print(f'Sir Geoffrey\\'s batting average for Yorkshire was {48426 / (1014 - 162):.2f}.')\n"
   ]
  },
  {
   "cell_type": "code",
   "execution_count": null,
   "metadata": {},
   "outputs": [],
   "source": [
    "# Q5\n",
    "print(f'113 students need {113 // 24} full labs, with {113 % 24} students left over.')\n",
    "print(f'175 students need {175 // 24} full labs, with {175 % 24} students left over.')\n",
    "print(f'12 students need {12 // 24} full labs, with {12 % 24} students left over.')"
   ]
  }
 ],
 "metadata": {
  "language_info": {
   "name": "python"
  }
 },
 "nbformat": 4,
 "nbformat_minor": 2
}
