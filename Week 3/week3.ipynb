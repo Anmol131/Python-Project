{
 "cells": [
  {
   "cell_type": "code",
   "execution_count": 1,
   "metadata": {},
   "outputs": [
    {
     "name": "stdout",
     "output_type": "stream",
     "text": [
      "Hello, Stranger! Good to meet you!\n"
     ]
    }
   ],
   "source": [
    "#1.  Modify your greeting program so that if the user does not enter a name (i.e. they\n",
    "#just press enter), the program responds \"Hello, Stranger!\". Otherwise it should print\n",
    "#a greeting with their name as before.\n",
    "\n",
    "name = input('Hello, what is your name? ')\n",
    "print(f'Hello, {name if name else \"Stranger\"}! Good to meet you!')\n"
   ]
  },
  {
   "cell_type": "code",
   "execution_count": 3,
   "metadata": {},
   "outputs": [
    {
     "name": "stdout",
     "output_type": "stream",
     "text": [
      "Password Set\n"
     ]
    }
   ],
   "source": [
    "#2.  Write a program that simulates the way in which a user might choose a password.\n",
    "#The program should prompt for a new password, and then prompt again. If the two\n",
    "#passwords entered are the same the program should say \"Password Set\" or\n",
    "#similar, otherwise it should report an error.\n",
    "\n",
    "password = input('Enter your new password:   ')\n",
    "check = input('Re-enter the same password:')\n",
    "\n",
    "if password == check:\n",
    "    print('Password Set')\n",
    "else:\n",
    "    print('Please enter the same password.')\n"
   ]
  },
  {
   "cell_type": "code",
   "execution_count": 4,
   "metadata": {},
   "outputs": [
    {
     "name": "stdout",
     "output_type": "stream",
     "text": [
      "Password Set\n"
     ]
    }
   ],
   "source": [
    "#3  Modify your previous program so that the password must be between 8 and 12 characters (inclusive) long.\n",
    "\n",
    "password = input('Enter your new password: ')\n",
    "check = input('Re-enter the same password:')\n",
    "\n",
    "if password == check and 8 <= len(password) <= 12 :\n",
    "    print('Password Set')\n",
    "else:\n",
    "    print('Error: Password does not meet requirements. Please enter a valid password.')"
   ]
  },
  {
   "cell_type": "code",
   "execution_count": 5,
   "metadata": {},
   "outputs": [
    {
     "name": "stdout",
     "output_type": "stream",
     "text": [
      "Password Set\n"
     ]
    }
   ],
   "source": [
    "#4 Modify your program again so that the chosen password cannot be one of a list of\n",
    "#common passwords, defined thus:\n",
    "#BAD_PASSWORDS = ['password', 'letmein', 'sesame', 'hello', 'justinbieber']\n",
    "\n",
    "BAD_PASSWORDS = ['password', 'letmein', 'sesame', 'hello', 'justinbieber']\n",
    "password = input('Enter your new password:   ')\n",
    "check = input('Re-enter the same password:')\n",
    "\n",
    "if password == check and 8 <= len(password) <= 12 and password not in BAD_PASSWORDS:\n",
    "    print('Password Set')\n",
    "else:\n",
    "    print('Error: Password does not meet requirements. Please enter a valid password.')"
   ]
  },
  {
   "cell_type": "code",
   "execution_count": 6,
   "metadata": {},
   "outputs": [
    {
     "name": "stdout",
     "output_type": "stream",
     "text": [
      "Password Set\n"
     ]
    }
   ],
   "source": [
    "#5  Modify your program a final time so that it executes until the user successfully\n",
    "#chooses a password. That is, if the password chosen fails any of the checks, the\n",
    "#program should return to asking for the password the first time.\n",
    "\n",
    "BAD_PASSWORDS = ['password', 'letmein', 'sesame', 'hello', 'justinbieber']\n",
    "while True:\n",
    "    password = input('Enter your new password:   ')\n",
    "    check = input('Re-enter the same password:')\n",
    "    if password == check and 8 <= len(password) <= 12 and password not in BAD_PASSWORDS:\n",
    "        print('Password Set')\n",
    "        break\n",
    "    else:\n",
    "        print('Error: Password does not meet requirements. Please enter a valid password.')\n",
    "\n"
   ]
  },
  {
   "cell_type": "code",
   "execution_count": 7,
   "metadata": {},
   "outputs": [
    {
     "name": "stdout",
     "output_type": "stream",
     "text": [
      " 0 x 7 =  0\n",
      " 1 x 7 =  7\n",
      " 2 x 7 = 14\n",
      " 3 x 7 = 21\n",
      " 4 x 7 = 28\n",
      " 5 x 7 = 35\n",
      " 6 x 7 = 42\n",
      " 7 x 7 = 49\n",
      " 8 x 7 = 56\n",
      " 9 x 7 = 63\n",
      "10 x 7 = 70\n",
      "11 x 7 = 77\n",
      "12 x 7 = 84\n"
     ]
    }
   ],
   "source": [
    "#6  Write a program that displays the \"Seven Times Table\". That is, the result of\n",
    "#multiplying 7 by every number from 0 to 12 inclusive. The output might start:\n",
    "#0 x 7 = 0\n",
    "#1 x 7 = 7\n",
    "#2 x 7 = 14\n",
    "#and so on\n",
    "\n",
    "for row in range(13):\n",
    "    print(f'{row:2} x 7 = {row * 7:2}')\n"
   ]
  },
  {
   "cell_type": "code",
   "execution_count": 8,
   "metadata": {},
   "outputs": [
    {
     "name": "stdout",
     "output_type": "stream",
     "text": [
      " 0 x 3 =   0\n",
      " 1 x 3 =   3\n",
      " 2 x 3 =   6\n",
      " 3 x 3 =   9\n",
      " 4 x 3 =  12\n",
      " 5 x 3 =  15\n",
      " 6 x 3 =  18\n",
      " 7 x 3 =  21\n",
      " 8 x 3 =  24\n",
      " 9 x 3 =  27\n",
      "10 x 3 =  30\n",
      "11 x 3 =  33\n",
      "12 x 3 =  36\n"
     ]
    }
   ],
   "source": [
    "#7 Modify your \"Times Table\" program so that the user enters the number of the table\n",
    "#they require. This number should be between 0 and 12 inclusive.\n",
    "\n",
    "while True:\n",
    "    table = int(input('What times table do you want to see? '))\n",
    "    if 0 <= table <= 12:\n",
    "        for row in range(13):\n",
    "            print(f'{row:2} x {table} = {row * table:3}')\n",
    "        break\n",
    "    else:\n",
    "        print('Sorry. That value is out of range. Please enter between 0 and 12')"
   ]
  },
  {
   "cell_type": "code",
   "execution_count": 31,
   "metadata": {},
   "outputs": [
    {
     "name": "stdout",
     "output_type": "stream",
     "text": [
      "12 x 3 =  36\n",
      "11 x 3 =  33\n",
      "10 x 3 =  30\n",
      " 9 x 3 =  27\n",
      " 8 x 3 =  24\n",
      " 7 x 3 =  21\n",
      " 6 x 3 =  18\n",
      " 5 x 3 =  15\n",
      " 4 x 3 =  12\n",
      " 3 x 3 =   9\n",
      " 2 x 3 =   6\n",
      " 1 x 3 =   3\n",
      " 0 x 3 =   0\n"
     ]
    }
   ],
   "source": [
    "#8 Modify the \"Times Table\" again so that the user still enters the number of the table,\n",
    "#but if this number is negative the table is printed backwards. So entering \"-7\"\n",
    "#would produce the Seven Times Table starting at \"12 times\" down to \"0 times\".\n",
    "\n",
    "while True:\n",
    "    table = int(input('What times table do you want to see? '))\n",
    "\n",
    "    if 0 <= abs(table) <= 12:\n",
    "        if table >= 0:\n",
    "            for row in range(13):\n",
    "                print(f'{row:2} x {table} = {row * table:3}')\n",
    "        else:\n",
    "            for row in range(12, -1, -1):\n",
    "                print(f'{row:2} x {abs(table)} = {row * abs(table):3}')\n",
    "        break\n",
    "    else:\n",
    "        print('Sorry. That value is out of range. Please enter between 0 and 12')"
   ]
  }
 ],
 "metadata": {
  "kernelspec": {
   "display_name": "Python 3",
   "language": "python",
   "name": "python3"
  },
  "language_info": {
   "codemirror_mode": {
    "name": "ipython",
    "version": 3
   },
   "file_extension": ".py",
   "mimetype": "text/x-python",
   "name": "python",
   "nbconvert_exporter": "python",
   "pygments_lexer": "ipython3",
   "version": "3.11.4"
  }
 },
 "nbformat": 4,
 "nbformat_minor": 2
}
