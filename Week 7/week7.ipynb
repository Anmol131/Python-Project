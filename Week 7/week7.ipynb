{
 "cells": [
  {
   "cell_type": "code",
   "execution_count": 1,
   "metadata": {},
   "outputs": [
    {
     "name": "stdout",
     "output_type": "stream",
     "text": [
      "Sorted list of unique letters: ['a', 'l', 'm', 'n', 'o']\n"
     ]
    }
   ],
   "source": [
    "#1  Write and test a function that takes a string as a parameter and returns a sorted list\n",
    "#of all the unique letters used in the string. So, if the string is cheese, the list\n",
    "#returned should be ['c', 'e', 'h', 's'].\n",
    "\n",
    "def unique_letters_sorted(input_string):\n",
    "    if not isinstance(input_string, str):\n",
    "        raise ValueError(\"Input must be a string.\")\n",
    "\n",
    "    unique_letters = sorted(set(char.lower() for char in input_string if char.isalpha()))\n",
    "    return unique_letters\n",
    "\n",
    "try:\n",
    "    input_str = input(\"Enter a string: \")\n",
    "    result = unique_letters_sorted(input_str)\n",
    "    print(f\"Sorted list of unique letters: {result}\")\n",
    "except ValueError as ve:\n",
    "    print(f\"Error: {ve}\")"
   ]
  },
  {
   "cell_type": "code",
   "execution_count": 3,
   "metadata": {},
   "outputs": [
    {
     "name": "stdout",
     "output_type": "stream",
     "text": [
      "Letters in either word: ['d', 'e', 'h', 'l', 'o', 'r', 'w']\n",
      "Letters in both words: ['l', 'o']\n",
      "Letters in either word, but not in both: ['d', 'e', 'h', 'r', 'w']\n"
     ]
    }
   ],
   "source": [
    "#2 Write and test three functions that each take two words (strings) as parameters and\n",
    "#return sorted lists (as defined above) representing respectively:\n",
    "#Letters that appear in at least one of the two words.\n",
    "#Letters that appear in both words.\n",
    "#Letters that appear in either word, but not in both.\n",
    "\n",
    "def set_to_sorted_list(a_set):\n",
    "    return sorted(list(a_set))\n",
    "\n",
    "def find_all_letters(word_one, word_two):\n",
    "    return set_to_sorted_list(set(word_one) | set(word_two))\n",
    "\n",
    "def find_letters_in_both(word_one, word_two):\n",
    "    return set_to_sorted_list(set(word_one) & set(word_two))\n",
    "\n",
    "def find_letters_difference(word_one, word_two):\n",
    "    return set_to_sorted_list(set(word_one) ^ set(word_two))\n",
    "\n",
    "word = 'hello'\n",
    "word2 = 'world'\n",
    "\n",
    "print(f\"Letters in either word: {find_all_letters(word, word2)}\")\n",
    "print(f\"Letters in both words: {find_letters_in_both(word, word2)}\")\n",
    "print(f\"Letters in either word, but not in both: {find_letters_difference(word, word2)}\")\n",
    "\n"
   ]
  },
  {
   "cell_type": "code",
   "execution_count": 4,
   "metadata": {},
   "outputs": [
    {
     "name": "stdout",
     "output_type": "stream",
     "text": [
      "The capital of Nepal is Kathmandu.\n",
      "The capital of Nepal is Kathmandu.\n"
     ]
    }
   ],
   "source": [
    "#3 Write a program that manages a list of countries and their capital cities. It should\n",
    "#prompt the user to enter the name of a country. If the program already \"knows\"\n",
    "#the name of the capital city, it should display it. Otherwise it should ask the user to\n",
    "#enter it. This should carry on until the user terminates the program (how this\n",
    "#happens is up to you)\n",
    "\n",
    "capitals = {}\n",
    "\n",
    "while True:\n",
    "    country = input('Enter the name of a country: ')\n",
    "\n",
    "    if not country:\n",
    "        break\n",
    "\n",
    "    if country.lower() in capitals:\n",
    "        print(f'The capital of {country.capitalize()} is {capitals[country.lower()]}.')\n",
    "    else:\n",
    "        capital = input(f'Hmm. Please enter the capital of {country.capitalize()}: ')\n",
    "        capitals[country.lower()] = capital.capitalize()"
   ]
  },
  {
   "cell_type": "code",
   "execution_count": 5,
   "metadata": {},
   "outputs": [
    {
     "name": "stdout",
     "output_type": "stream",
     "text": [
      "l -> 2\n",
      "e -> 1\n",
      "h -> 1\n",
      "o -> 1\n"
     ]
    }
   ],
   "source": [
    "#4 Write a program that processes a string representing a message and reports the six\n",
    "#most common letters, along with the number of times they appear. Case should\n",
    "#not matter, so \"E\" and \"e\" are considered the same.\n",
    "\n",
    "from operator import itemgetter\n",
    "from string import ascii_lowercase as letters\n",
    "\n",
    "counts = {letter: 0 for letter in letters}\n",
    "\n",
    "message = input('Enter the message: ')\n",
    "\n",
    "for character in message.lower():\n",
    "    if character in letters:\n",
    "        counts[character] += 1\n",
    "\n",
    "most_common = sorted(counts.items(), key=itemgetter(1), reverse=True)[:5]\n",
    "\n",
    "most_common = [(letter, count) for letter, count in most_common if count > 0]\n",
    "\n",
    "for letter, count in most_common:\n",
    "    print(f'{letter} -> {count}')"
   ]
  }
 ],
 "metadata": {
  "kernelspec": {
   "display_name": "Python 3",
   "language": "python",
   "name": "python3"
  },
  "language_info": {
   "codemirror_mode": {
    "name": "ipython",
    "version": 3
   },
   "file_extension": ".py",
   "mimetype": "text/x-python",
   "name": "python",
   "nbconvert_exporter": "python",
   "pygments_lexer": "ipython3",
   "version": "3.11.4"
  }
 },
 "nbformat": 4,
 "nbformat_minor": 2
}
