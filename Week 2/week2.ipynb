{
 "cells": [
  {
   "cell_type": "code",
   "execution_count": 1,
   "metadata": {},
   "outputs": [
    {
     "name": "stdout",
     "output_type": "stream",
     "text": [
      "Hello,  Anmol . Good to meet you!\n"
     ]
    }
   ],
   "source": [
    "#1. Last week you wrote a program that printed out a cheery greeting including your name. \n",
    "#Take a copy of it, and modify it so that the user enters their name at the keyboard, \n",
    "#and then receives a greeting. For example:\n",
    "#Hello, what is your name? Mr Apricot\n",
    "#Hello, Mr Apricot. Good to meet you!\n",
    "\n",
    "name = input('Hello, what is your name? ')\n",
    "print('Hello, ', name, '. Good to meet you!',)\n",
    "\n"
   ]
  },
  {
   "cell_type": "code",
   "execution_count": 2,
   "metadata": {},
   "outputs": [
    {
     "name": "stdout",
     "output_type": "stream",
     "text": [
      "16.0 C is equivalent to  60.8 F.\n"
     ]
    }
   ],
   "source": [
    "#2.  Write a program that prompts a user to enter a temperature in Celsius, and then\n",
    "#displays the corresponding temperature in Fahrenheit, like so:\n",
    "#Enter a temperature in Celsius: 32.5\n",
    "#32.5C is equivalent to 90.5F.\n",
    "\n",
    "celsius = float(input('Enter a temperature in Celsius: '))\n",
    "print(celsius, 'C is equivalent to ', celsius * 1.8 + 32, 'F.')"
   ]
  },
  {
   "cell_type": "code",
   "execution_count": 3,
   "metadata": {},
   "outputs": [
    {
     "name": "stdout",
     "output_type": "stream",
     "text": [
      "There will be 11 groups with 1 students left over.\n"
     ]
    }
   ],
   "source": [
    "#3.  The Head of Computing at the University of Poppleton is tasked with dividing a\n",
    "#group of students into lab groups. A lab group is usually 24 students, but this is\n",
    "#sometimes varied to create groups of similar size. Write a program that prompts for\n",
    "#the number of students and group size, and then displays how many groups will be\n",
    "#needed and how many will be left over in a smaller group.\n",
    "#How many students? 113\n",
    "#Required group size? 22\n",
    "#There will be 5 groups with 3 students left over.\n",
    "#For bonus credit, see if you can fix the grammar in the output. So if there were 101\n",
    "#students in groups of 20 the output would be:\n",
    "#There will be 5 groups with 1 student left over.\n",
    "\n",
    "students = int(input('How many students? '))\n",
    "group_size = int(input('Required group size? '))\n",
    "\n",
    "groups = students // group_size\n",
    "left_over = students % group_size\n",
    "\n",
    "print('There will be', groups, 'groups with', left_over, 'students left over.')\n"
   ]
  },
  {
   "cell_type": "code",
   "execution_count": 4,
   "metadata": {},
   "outputs": [
    {
     "name": "stdout",
     "output_type": "stream",
     "text": [
      "There will be 1 sweets for each pupil, with 15 sweets left over.\n"
     ]
    }
   ],
   "source": [
    "#4.  A kindly teacher wishes to distribute a tub of sweets between her pupils. She will\n",
    "#first count the sweets and then divide them according to how many pupils attend\n",
    "#that day. Write a program that will tell the teacher how many sweets to give to each\n",
    "#pupil, and how many she will have left over.\n",
    "\n",
    "sweets = int(input('How many sweets in the tub? '))\n",
    "pupils = int(input('How many pupils present today? '))\n",
    "\n",
    "sweets_per_pupil = sweets // pupils\n",
    "sweets_left_over = sweets % pupils\n",
    "\n",
    "print('There will be', sweets_per_pupil, 'sweets for each pupil, with', sweets_left_over, 'sweets left over.')"
   ]
  }
 ],
 "metadata": {
  "kernelspec": {
   "display_name": "Python 3",
   "language": "python",
   "name": "python3"
  },
  "language_info": {
   "codemirror_mode": {
    "name": "ipython",
    "version": 3
   },
   "file_extension": ".py",
   "mimetype": "text/x-python",
   "name": "python",
   "nbconvert_exporter": "python",
   "pygments_lexer": "ipython3",
   "version": "3.11.4"
  }
 },
 "nbformat": 4,
 "nbformat_minor": 2
}
