{
 "cells": [
  {
   "cell_type": "code",
   "execution_count": 2,
   "metadata": {},
   "outputs": [
    {
     "name": "stdout",
     "output_type": "stream",
     "text": [
      "Binary representation: 100\n"
     ]
    }
   ],
   "source": [
    "#1.  Write a function that accepts a positive integer as a parameter and then returns a\n",
    "#representation of that number in binary (base 2).\n",
    "\n",
    "def decimal_to_binary(decimal_number):\n",
    "    if decimal_number <= 0:\n",
    "        raise ValueError(\"Input must be a positive integer.\")\n",
    "\n",
    "    binary_representation = bin(decimal_number)[2:]\n",
    "    return binary_representation\n",
    "\n",
    "try:\n",
    "    decimal_input = int(input(\"Enter a positive integer: \"))\n",
    "    binary_result = decimal_to_binary(decimal_input)\n",
    "    print(f\"Binary representation: {binary_result}\")\n",
    "except ValueError as ve:\n",
    "    print(f\"Error: {ve}\")\n"
   ]
  },
  {
   "cell_type": "code",
   "execution_count": 9,
   "metadata": {},
   "outputs": [
    {
     "name": "stdout",
     "output_type": "stream",
     "text": [
      "5 -> [1, 5]\n",
      "6 -> [1, 2, 3, 6]\n",
      "7 -> [1, 7]\n",
      "8 -> [1, 2, 4, 8]\n",
      "9 -> [1, 3, 9]\n",
      "10 -> [1, 2, 5, 10]\n"
     ]
    }
   ],
   "source": [
    "#2.  Write and test a function that takes an integer as its parameter and returns the\n",
    "#factors of that integer.\n",
    "\n",
    "def factorise(num):\n",
    "    return [f for f in range(1, num + 1) if num % f == 0]\n",
    "\n",
    "for x in range(5, 11):\n",
    "    print(f'{x} -> {factorise(x)}')"
   ]
  },
  {
   "cell_type": "code",
   "execution_count": 4,
   "metadata": {},
   "outputs": [
    {
     "name": "stdout",
     "output_type": "stream",
     "text": [
      "  1 -> Not Prime\n",
      "  2 -> Prime\n",
      "  3 -> Prime\n",
      "  4 -> Not Prime\n",
      "  5 -> Prime\n"
     ]
    }
   ],
   "source": [
    "#3 Write and test a function that determines if a given integer is a prime number. A\n",
    "#prime number is an integer greater than 1 that cannot be produced by multiplying\n",
    "#two other integers. \n",
    "\n",
    "from factors import factorise\n",
    "\n",
    "def is_prime(i):\n",
    "    return i > 1 and len(factorise(i)) == 2\n",
    "\n",
    "for x in range(1, 6):\n",
    "    print(f'{x:3} -> {\"Prime\" if is_prime(x) else \"Not Prime\"}')"
   ]
  },
  {
   "cell_type": "code",
   "execution_count": 5,
   "metadata": {},
   "outputs": [
    {
     "name": "stdout",
     "output_type": "stream",
     "text": [
      "\"Hello World\" -> \"dlroWolleH\"\n"
     ]
    }
   ],
   "source": [
    "#4 Computers are commonly used in encryption. A very simple form of encryption\n",
    "#(more accurately \"obfuscation\") would be to remove the spaces from a message\n",
    "#and reverse the resulting string. Write, and test, a function that takes a string\n",
    "#ontaining a message and \"encrypts\" it in this way\n",
    "\n",
    "def obfuscate(message):\n",
    "    letters = [c for c in message if c.isalpha()]\n",
    "    letters.reverse()\n",
    "\n",
    "    return ''.join(letters)\n",
    "\n",
    "word = 'Hello World'\n",
    "\n",
    "print(f'\"{word}\" -> \"{obfuscate(word)}\"')"
   ]
  },
  {
   "cell_type": "code",
   "execution_count": 6,
   "metadata": {},
   "outputs": [
    {
     "name": "stdout",
     "output_type": "stream",
     "text": [
      "Encrypted message: pmynb\n",
      "Interval used: 16\n"
     ]
    }
   ],
   "source": [
    "#5. Another way to hide a message is to include the letters that make it up within\n",
    "#seemingly random text. The letters of the message might be every fifth character,\n",
    "#for example. Write and test a function that does such encryption. It should\n",
    "#randomly generate an interval (between 2 and 20), space the message out\n",
    "#accordingly, and should fill the gaps with random letters. The function should\n",
    "#return the encrypted message and the interval used.\n",
    "\n",
    "import random\n",
    "import string\n",
    "\n",
    "def random_interval_encryption(message):\n",
    "    if not isinstance(message, str):\n",
    "        raise ValueError(\"Input must be a string.\")\n",
    "\n",
    "    interval = random.randint(2, 20)\n",
    "    encrypted_message = ''\n",
    "\n",
    "    for i, char in enumerate(message):\n",
    "        if char.isalpha():\n",
    "            if (i + 1) % interval == 0:\n",
    "                encrypted_message += char\n",
    "            else:\n",
    "                encrypted_message += random.choice(string.ascii_lowercase)\n",
    "        else:\n",
    "            encrypted_message += char\n",
    "\n",
    "    return encrypted_message, interval\n",
    "\n",
    "# Example usage:\n",
    "try:\n",
    "    input_message = input(\"Enter a message to encrypt: \")\n",
    "    encrypted_result, interval_used = random_interval_encryption(input_message)\n",
    "    print(f\"Encrypted message: {encrypted_result}\")\n",
    "    print(f\"Interval used: {interval_used}\")\n",
    "except ValueError as ve:\n",
    "    print(f\"Error: {ve}\")\n"
   ]
  }
 ],
 "metadata": {
  "kernelspec": {
   "display_name": "Python 3",
   "language": "python",
   "name": "python3"
  },
  "language_info": {
   "codemirror_mode": {
    "name": "ipython",
    "version": 3
   },
   "file_extension": ".py",
   "mimetype": "text/x-python",
   "name": "python",
   "nbconvert_exporter": "python",
   "pygments_lexer": "ipython3",
   "version": "3.11.4"
  }
 },
 "nbformat": 4,
 "nbformat_minor": 2
}
