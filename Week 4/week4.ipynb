{
 "cells": [
  {
   "cell_type": "code",
   "execution_count": 1,
   "metadata": {},
   "outputs": [
    {
     "name": "stdout",
     "output_type": "stream",
     "text": [
      "  0 -> True\n",
      "500 -> False\n",
      "130 -> False\n",
      " 16 -> True\n",
      " 58 -> True\n",
      "1000 -> False\n",
      "-16 -> False\n",
      "-500 -> False\n",
      "300 -> False\n",
      " 50 -> True\n",
      " 75 -> True\n",
      "-75 -> False\n"
     ]
    }
   ],
   "source": [
    "#1  Functions are often used to validate input. Write a function that accepts a single\n",
    "#integer as a parameter and returns True if the integer is in the range 0 to 100\n",
    "#(inclusive), or False otherwise. Write a short program to test the function.\n",
    "\n",
    "def is_between_zero_and_hundred(an_integer):\n",
    "    return 0 <= an_integer <= 100\n",
    "for i in [0 ,500 ,130 ,16 ,58, 1000,-16, -500, 300, 50, 75, -75]:\n",
    "    print(f'{i:3} -> {is_between_zero_and_hundred(i)}')\n"
   ]
  },
  {
   "cell_type": "code",
   "execution_count": 2,
   "metadata": {},
   "outputs": [
    {
     "name": "stdout",
     "output_type": "stream",
     "text": [
      "example      -> Lowercase Count:  7 | Uppercase Count:  0\n",
      "Example      -> Lowercase Count:  6 | Uppercase Count:  1\n",
      "EXAMPLE      -> Lowercase Count:  0 | Uppercase Count:  7\n",
      "ExAmPlE      -> Lowercase Count:  3 | Uppercase Count:  4\n",
      "exampleWord  -> Lowercase Count: 10 | Uppercase Count:  1\n",
      "ex4mpl3      -> Lowercase Count:  5 | Uppercase Count:  0\n",
      "123456       -> Lowercase Count:  0 | Uppercase Count:  0\n"
     ]
    }
   ],
   "source": [
    "#2  Write a function that has a single string as its parameter, and returns the number of\n",
    "#uppercase letters, and the number of lowercase letters in the string. Test the\n",
    "#function with a short program.\n",
    "\n",
    "def count_letters(a_string):\n",
    "    upper = lower = 0\n",
    "\n",
    "    for letter in a_string:\n",
    "        if letter.isupper():\n",
    "            upper += 1\n",
    "        elif letter.islower():\n",
    "            lower += 1\n",
    "\n",
    "    return lower, upper\n",
    "\n",
    "test_words = ['example', 'Example', 'EXAMPLE', 'ExAmPlE', 'exampleWord', 'ex4mpl3', '123456']\n",
    "\n",
    "for word in test_words:\n",
    "    lower_count, upper_count = count_letters(word)\n",
    "    print(f'{word:12} -> Lowercase Count: {lower_count:2} | Uppercase Count: {upper_count:2}')"
   ]
  },
  {
   "cell_type": "code",
   "execution_count": 3,
   "metadata": {},
   "outputs": [
    {
     "name": "stdout",
     "output_type": "stream",
     "text": [
      "Hello, Anmol! It is good to meet you!\n"
     ]
    }
   ],
   "source": [
    "#3 Modify your \"greetings\" program so that the first letter of the name entered is\n",
    "#always in uppercase with the rest in lowercase. This should happen even if the user\n",
    "#entered their name differently. So if the user entered arthur, ARTHUR, or even\n",
    "#arTHur the name should be displayed as Arthur.\n",
    "\n",
    "name = input('Hello, what is your name? ')\n",
    "print(f'Hello, {name.capitalize() if name else \"Stranger\"}! It is good to meet you!')\n"
   ]
  },
  {
   "cell_type": "code",
   "execution_count": 4,
   "metadata": {},
   "outputs": [
    {
     "name": "stdout",
     "output_type": "stream",
     "text": [
      "Original: \"hello\" -> Modified: \"hell\"\n",
      "Original: \"world\" -> Modified: \"worl\"\n",
      "Original: \"Python\" -> Modified: \"Pytho\"\n",
      "Original: \"\" -> Modified: \"\"\n",
      "Original: \"A\" -> Modified: \"A\"\n",
      "Original: \"123456\" -> Modified: \"12345\"\n"
     ]
    }
   ],
   "source": [
    "#4  When processing data it is often useful to remove the last character from some\n",
    "#input (it is often a newline). Write and test a function that takes a string parameter\n",
    "#and returns it with the last character removed. (If the string contains one or fewer\n",
    "#characters, return it unchanged.)\n",
    "\n",
    "def remove_last_character(input_string):\n",
    "    return input_string[:-1] if len(input_string) > 1 else input_string\n",
    "\n",
    "test_strings = ['hello', 'world', 'Python', '', 'A', '123456']\n",
    "\n",
    "for test_string in test_strings:\n",
    "    result = remove_last_character(test_string)\n",
    "    print(f'Original: \"{test_string}\" -> Modified: \"{result}\"')\n"
   ]
  },
  {
   "cell_type": "code",
   "execution_count": 6,
   "metadata": {},
   "outputs": [
    {
     "name": "stdout",
     "output_type": "stream",
     "text": [
      "25 degree Celsius is equal to 77.00 degree Fahrenheit.\n",
      "77 degree Fahrenheit is equal to 25.00 degree Celsius.\n"
     ]
    }
   ],
   "source": [
    "#5  Write and test a function that converts a temperature measured in degrees\n",
    "#centigrade into the equivalent in fahrenheit, and another that does the reverse\n",
    "#conversion. Test both functions. (Google will find you the formulae).\n",
    "\n",
    "def celsius_to_fahrenheit(celsius):\n",
    "    return (celsius * 9/5) + 32\n",
    "\n",
    "def fahrenheit_to_celsius(fahrenheit):\n",
    "    return (fahrenheit - 32) * 5/9\n",
    "\n",
    "celsius_temperature = 25\n",
    "fahrenheit_temperature = celsius_to_fahrenheit(celsius_temperature)\n",
    "print(f'{celsius_temperature} degree Celsius is equal to {fahrenheit_temperature:.2f} degree Fahrenheit.')\n",
    "\n",
    "fahrenheit_temperature = 77\n",
    "celsius_temperature = fahrenheit_to_celsius(fahrenheit_temperature)\n",
    "print(f'{fahrenheit_temperature} degree Fahrenheit is equal to {celsius_temperature:.2f} degree Celsius.')\n"
   ]
  },
  {
   "cell_type": "code",
   "execution_count": 7,
   "metadata": {},
   "outputs": [
    {
     "name": "stdout",
     "output_type": "stream",
     "text": [
      "Invalid input format. Please enter a number followed by the letter C or c.\n"
     ]
    }
   ],
   "source": [
    "#6 Write a program that takes a centigrade temperature and displays the equivalent in\n",
    "#fahrenheit. The input should be a number followed by a letter C. The output should\n",
    "#be in the same format.\n",
    "\n",
    "def celsius_to_fahrenheit(celsius):\n",
    "    return (celsius * 9/5) + 32\n",
    "\n",
    "input_temperature = input(\"Enter the temperature in Centigrade (e.g., 25C): \")\n",
    "\n",
    "if input_temperature[:-1].isdigit() and (input_temperature[-1] == 'C' or input_temperature[-1] == 'c'):\n",
    "\n",
    "    celsius = float(input_temperature[:-1])\n",
    "\n",
    "    fahrenheit = celsius_to_fahrenheit(celsius)\n",
    "\n",
    "    print(f'Temperature: {input_temperature} is equivalent to {fahrenheit:.2f}F')\n",
    "else:\n",
    "    print('Invalid input format. Please enter a number followed by the letter C or c.')\n"
   ]
  },
  {
   "cell_type": "code",
   "execution_count": 8,
   "metadata": {},
   "outputs": [
    {
     "name": "stdout",
     "output_type": "stream",
     "text": [
      "Invalid input for temperature 1. Please enter a number followed by the letter C or c.\n",
      "Invalid input for temperature 2. Please enter a number followed by the letter C or c.\n",
      "Invalid input for temperature 5. Please enter a number followed by the letter C or c.\n",
      "Maximum Temperature: 73.40F\n",
      "Minimum Temperature: 57.20F\n",
      "Mean Temperature: 63.20F\n"
     ]
    }
   ],
   "source": [
    "#7 Write a program that reads 6 temperatures (in the same format as before), and\n",
    "#displays the maximum, minimum, and mean of the value\n",
    "\n",
    "def celsius_to_fahrenheit(celsius):\n",
    "    return (celsius * 9/5) + 32\n",
    "\n",
    "temperatures = []\n",
    "for i in range(6):\n",
    "    input_temperature = input(f\"Enter temperature {i + 1} in Centigrade (e.g., 25C): \")\n",
    "    if input_temperature[:-1].isdigit() and (input_temperature[-1] == 'C' or input_temperature[-1] == 'c'):\n",
    "        celsius = float(input_temperature[:-1])\n",
    "        temperatures.append(celsius)\n",
    "    else:\n",
    "        print(f'Invalid input for temperature {i + 1}. Please enter a number followed by the letter C or c.')\n",
    "\n",
    "fahrenheit_temperatures = [celsius_to_fahrenheit(temp) for temp in temperatures]\n",
    "\n",
    "if temperatures:\n",
    "    max_temp = max(fahrenheit_temperatures)\n",
    "    min_temp = min(fahrenheit_temperatures)\n",
    "    mean_temp = sum(fahrenheit_temperatures) / len(fahrenheit_temperatures)\n",
    "\n",
    "    print(f'Maximum Temperature: {max_temp:.2f}F')\n",
    "    print(f'Minimum Temperature: {min_temp:.2f}F')\n",
    "    print(f'Mean Temperature: {mean_temp:.2f}F')\n",
    "else:\n",
    "    print('No valid temperatures entered.')\n"
   ]
  },
  {
   "cell_type": "code",
   "execution_count": 9,
   "metadata": {},
   "outputs": [
    {
     "name": "stdout",
     "output_type": "stream",
     "text": [
      "Maximum Temperature: 73.40F\n",
      "Minimum Temperature: 73.40F\n",
      "Mean Temperature: 73.40F\n"
     ]
    }
   ],
   "source": [
    "#8. Modify the previous program so that it can process any number of values. The input\n",
    "#terminates when the user just pressed \"Enter\" at the prompt rather than entering a\n",
    "#value.\n",
    "\n",
    "def celsius_to_fahrenheit(celsius):\n",
    "    return (celsius * 9/5) + 32\n",
    "\n",
    "temperatures = []\n",
    "\n",
    "while True:\n",
    "    input_temperature = input(\"Enter a temperature in Centigrade (or press Enter to finish): \")\n",
    "\n",
    "    if not input_temperature:\n",
    "        break\n",
    "\n",
    "    if input_temperature[:-1].isdigit() and (input_temperature[-1] == 'C' or input_temperature[-1] == 'c'):\n",
    "    \n",
    "        celsius = float(input_temperature[:-1])\n",
    "        temperatures.append(celsius)\n",
    "    else:\n",
    "        print('Invalid input. Please enter a valid number followed by the letter C or c.')\n",
    "\n",
    "fahrenheit_temperatures = [celsius_to_fahrenheit(temp) for temp in temperatures]\n",
    "\n",
    "if temperatures:\n",
    "    max_temp = max(fahrenheit_temperatures)\n",
    "    min_temp = min(fahrenheit_temperatures)\n",
    "    mean_temp = sum(fahrenheit_temperatures) / len(fahrenheit_temperatures)\n",
    "\n",
    "    print(f'Maximum Temperature: {max_temp:.2f}F')\n",
    "    print(f'Minimum Temperature: {min_temp:.2f}F')\n",
    "    print(f'Mean Temperature: {mean_temp:.2f}F')\n",
    "else:\n",
    "    print('No valid temperatures entered.')\n"
   ]
  }
 ],
 "metadata": {
  "kernelspec": {
   "display_name": "Python 3",
   "language": "python",
   "name": "python3"
  },
  "language_info": {
   "codemirror_mode": {
    "name": "ipython",
    "version": 3
   },
   "file_extension": ".py",
   "mimetype": "text/x-python",
   "name": "python",
   "nbconvert_exporter": "python",
   "pygments_lexer": "ipython3",
   "version": "3.11.4"
  }
 },
 "nbformat": 4,
 "nbformat_minor": 2
}
